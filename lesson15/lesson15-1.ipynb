{
 "cells": [
  {
   "cell_type": "code",
   "execution_count": 1,
   "metadata": {},
   "outputs": [
    {
     "ename": "ModuleNotFoundError",
     "evalue": "No module named 'matplotlib'",
     "output_type": "error",
     "traceback": [
      "\u001b[0;31m---------------------------------------------------------------------------\u001b[0m",
      "\u001b[0;31mModuleNotFoundError\u001b[0m                       Traceback (most recent call last)",
      "Cell \u001b[0;32mIn[1], line 1\u001b[0m\n\u001b[0;32m----> 1\u001b[0m \u001b[38;5;28;01mimport\u001b[39;00m \u001b[38;5;21;01mmatplotlib\u001b[39;00m\u001b[38;5;21;01m.\u001b[39;00m\u001b[38;5;21;01mpyplot\u001b[39;00m \u001b[38;5;28;01mas\u001b[39;00m \u001b[38;5;21;01mplt\u001b[39;00m\n\u001b[1;32m      3\u001b[0m student1 \u001b[38;5;241m=\u001b[39m {\u001b[38;5;124m'\u001b[39m\u001b[38;5;124mchinese\u001b[39m\u001b[38;5;124m'\u001b[39m:\u001b[38;5;241m78\u001b[39m, \n\u001b[1;32m      4\u001b[0m             \u001b[38;5;124m'\u001b[39m\u001b[38;5;124menglish\u001b[39m\u001b[38;5;124m'\u001b[39m:\u001b[38;5;241m80\u001b[39m,\n\u001b[1;32m      5\u001b[0m             \u001b[38;5;124m'\u001b[39m\u001b[38;5;124mmath\u001b[39m\u001b[38;5;124m'\u001b[39m:\u001b[38;5;241m92\u001b[39m,\n\u001b[1;32m      6\u001b[0m             \u001b[38;5;124m'\u001b[39m\u001b[38;5;124mhistory\u001b[39m\u001b[38;5;124m'\u001b[39m:\u001b[38;5;241m75\u001b[39m,\n\u001b[1;32m      7\u001b[0m             \u001b[38;5;124m'\u001b[39m\u001b[38;5;124mdiscover\u001b[39m\u001b[38;5;124m'\u001b[39m:\u001b[38;5;241m85\u001b[39m}\n\u001b[1;32m      9\u001b[0m subjects \u001b[38;5;241m=\u001b[39m \u001b[38;5;28mlist\u001b[39m(student1\u001b[38;5;241m.\u001b[39mkeys())\n",
      "\u001b[0;31mModuleNotFoundError\u001b[0m: No module named 'matplotlib'"
     ]
    }
   ],
   "source": [
    "import matplotlib.pyplot as plt\n",
    "\n",
    "student1 = {'chinese':78, \n",
    "            'english':80,\n",
    "            'math':92,\n",
    "            'history':75,\n",
    "            'discover':85}\n",
    "\n",
    "subjects = list(student1.keys())\n",
    "score1 = list(student1.values())\n",
    "\n",
    "figure = plt.figure(figsize=(8,5))\n",
    "axes = figure.add_subplot(1,1,1)\n",
    "axes.plot(subjects,score1,'ro--')\n",
    "\n",
    "plt.show()"
   ]
  },
  {
   "cell_type": "code",
   "execution_count": null,
   "metadata": {},
   "outputs": [],
   "source": [
    "import matplotlib.pyplot as plt\n",
    "\n",
    "student1 = {'chinese':78, \n",
    "            'english':80,\n",
    "            'math':92,\n",
    "            'history':75,\n",
    "            'discover':85}\n",
    "\n",
    "student2 = {'chinese':69, \n",
    "            'english':92,\n",
    "            'math':74,\n",
    "            'history':69,\n",
    "            'discover':93}\n",
    "\n",
    "subjects = list(student1.keys())\n",
    "score1 = list(student1.values())\n",
    "\n",
    "figure = plt.figure(figsize=(8,5))\n",
    "axes = figure.add_subplot(1,1,1)\n",
    "axes.plot(subjects,score1,'ro--',label='Sudent1')\n",
    "\n",
    "score2 = list(student2.values())\n",
    "axes.plot(subjects,score2,'bo-',label='Student2')\n",
    "\n",
    "axes.set_title('Table Of Students')\n",
    "axes.set_xlabel('Subject')\n",
    "axes.set_ylabel('Scores')\n",
    "axes.grid(axis='y')\n",
    "axes.legend()\n",
    "\n",
    "plt.show()"
   ]
  },
  {
   "cell_type": "code",
   "execution_count": null,
   "metadata": {},
   "outputs": [],
   "source": [
    "import matplotlib.pyplot as plt\n",
    "\n",
    "student1 = {'chinese':78, \n",
    "            'english':80,\n",
    "            'math':92,\n",
    "            'history':75,\n",
    "            'discover':85}\n",
    "\n",
    "student2 = {'chinese':69, \n",
    "            'english':92,\n",
    "            'math':74,\n",
    "            'history':69,\n",
    "            'discover':93}\n",
    "\n",
    "subjects = list(student1.keys())\n",
    "score1 = list(student1.values())\n",
    "\n",
    "figure = plt.figure(figsize=(8,5))\n",
    "axes = figure.add_subplot(1,1,1)\n",
    "axes.plot(subjects,score1,'ro--',label='Sudent1')\n",
    "\n",
    "score2 = list(student2.values())\n",
    "axes.plot(subjects,score2,'bo-',label='Student2')\n",
    "\n",
    "axes.set_title('Table Of Students')\n",
    "axes.set_xlabel('Subject')\n",
    "axes.set_ylabel('Scores')\n",
    "axes.grid(axis='y')\n",
    "axes.legend()\n",
    "\n",
    "x_locations = axes.get_xticks()\n",
    "print(x_locations)\n",
    "for i in x_locations:\n",
    "    axes.annotate(str(score1[i]),xy=(i,score1[i]+0.5))\n",
    "    axes.annotate(str(score2[i]),xy=(i,score2[i]+0.5))\n",
    "\n",
    "plt.show()"
   ]
  }
 ],
 "metadata": {
  "kernelspec": {
   "display_name": "Python 3",
   "language": "python",
   "name": "python3"
  },
  "language_info": {
   "codemirror_mode": {
    "name": "ipython",
    "version": 3
   },
   "file_extension": ".py",
   "mimetype": "text/x-python",
   "name": "python",
   "nbconvert_exporter": "python",
   "pygments_lexer": "ipython3",
   "version": "3.11.9"
  }
 },
 "nbformat": 4,
 "nbformat_minor": 2
}
