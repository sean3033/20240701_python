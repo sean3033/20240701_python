{
 "cells": [
  {
   "cell_type": "code",
   "execution_count": null,
   "metadata": {},
   "outputs": [],
   "source": [
    "scores = [78, 92, 85, 76, 65]\n",
    "\n",
    "for i,s in enumerate(scores):\n",
    "    scores[i] = s+5 \n",
    "\n",
    "scores"
   ]
  },
  {
   "cell_type": "code",
   "execution_count": null,
   "metadata": {},
   "outputs": [],
   "source": [
    "scores1 = [78, 92, 85, 76, 65]\n",
    "scores2 = [98, 73, 68, 89, 72]\n",
    "\n",
    "totals = []\n",
    "for i in range(len(scores1)):\n",
    "    totals.append(scores1[i] + scores2[i])\n",
    "\n",
    "totals"
   ]
  },
  {
   "cell_type": "code",
   "execution_count": null,
   "metadata": {},
   "outputs": [],
   "source": [
    "import numpy as np\n",
    "array = np.array([78, 92, 85, 76, 65])\n",
    "array + 5"
   ]
  },
  {
   "cell_type": "code",
   "execution_count": null,
   "metadata": {},
   "outputs": [],
   "source": [
    "scores1_array = np.array([78, 92, 85, 76, 65])\n",
    "scores2_array = np.array([98, 73, 68, 89, 72])\n",
    "scores1_array + scores2_array"
   ]
  }
 ],
 "metadata": {
  "language_info": {
   "name": "python"
  }
 },
 "nbformat": 4,
 "nbformat_minor": 2
}
