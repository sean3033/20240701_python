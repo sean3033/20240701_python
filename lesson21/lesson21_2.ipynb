{
 "cells": [
  {
   "cell_type": "code",
   "execution_count": null,
   "metadata": {},
   "outputs": [],
   "source": [
    "\n",
    "from dotenv import load_dotenv\n",
    "import google.generativeai as genai\n",
    "import os\n",
    "load_dotenv()\n",
    "\n",
    "\n",
    "genai.configure(api_key=os.environ['api_key'])\n",
    "model = genai.GenerativeModel('gemini-1.5-flash')\n",
    "response = model.generate_content(\"請問如何學習python?\")\n",
    "print(response.text)"
   ]
  }
 ],
 "metadata": {
  "language_info": {
   "name": "python"
  }
 },
 "nbformat": 4,
 "nbformat_minor": 2
}
