{
 "cells": [
  {
   "cell_type": "code",
   "execution_count": 1,
   "metadata": {},
   "outputs": [
    {
     "name": "stdout",
     "output_type": "stream",
     "text": [
      "請以(複合指定運算子)設計程式\n",
      "\t讓使用者輸入三個任意數\n",
      "\t程式會顯示3數相加的總和\n"
     ]
    }
   ],
   "source": [
    "print('請以(複合指定運算子)設計程式\\n\\t讓使用者輸入三個任意數\\n\\t程式會顯示3數相加的總和')"
   ]
  },
  {
   "cell_type": "code",
   "execution_count": 2,
   "metadata": {},
   "outputs": [
    {
     "name": "stdout",
     "output_type": "stream",
     "text": [
      "請以(複合指定運算子)設計程式\n",
      "      讓使用者輸入三個任意數\n",
      "      程式會顯示3數相加的總和\n"
     ]
    }
   ],
   "source": [
    "print('''請以(複合指定運算子)設計程式\n",
    "      讓使用者輸入三個任意數\n",
    "      程式會顯示3數相加的總和''')"
   ]
  },
  {
   "cell_type": "code",
   "execution_count": 3,
   "metadata": {},
   "outputs": [
    {
     "name": "stdout",
     "output_type": "stream",
     "text": [
      "1 2 3 a b c\n"
     ]
    }
   ],
   "source": [
    "print(1,2,3,'a','b','c')"
   ]
  },
  {
   "cell_type": "code",
   "execution_count": 4,
   "metadata": {},
   "outputs": [
    {
     "name": "stdout",
     "output_type": "stream",
     "text": [
      "1-2-3-a-b-c.\n"
     ]
    }
   ],
   "source": [
    "print(1,2,3,'a','b','c',end='.\\n',sep='-')"
   ]
  },
  {
   "cell_type": "code",
   "execution_count": 5,
   "metadata": {},
   "outputs": [
    {
     "name": "stdout",
     "output_type": "stream",
     "text": [
      "我有3個水果\n",
      "我有4隻動物\n",
      "我有5台車\n"
     ]
    }
   ],
   "source": [
    "fruit=3\n",
    "animals=4\n",
    "cars=5\n",
    "print(f\"我有{fruit}個水果\\n我有{animals}隻動物\\n我有{cars}台車\")"
   ]
  },
  {
   "cell_type": "code",
   "execution_count": 7,
   "metadata": {},
   "outputs": [
    {
     "name": "stdout",
     "output_type": "stream",
     "text": [
      "我有3個水果\n",
      "我有4隻動物\n",
      "我有5台車\n",
      "\n"
     ]
    }
   ],
   "source": [
    "message=\"\"\n",
    "message +=  f\"我有{fruit}個水果\\n\"\n",
    "message +=  f\"我有{animals}隻動物\\n\"\n",
    "message +=  f\"我有{cars}台車\\n\"\n",
    "print(message)"
   ]
  },
  {
   "cell_type": "code",
   "execution_count": 1,
   "metadata": {},
   "outputs": [
    {
     "name": "stdout",
     "output_type": "stream",
     "text": [
      "半徑:2公分,面積為:12.57平方公分\n"
     ]
    }
   ],
   "source": [
    "radius=eval(input(\"請輸入半徑(公分)\"))\n",
    "area = radius ** 2 * 3.1415926\n",
    "print(f\"半徑:{radius}公分,面積為:{round(area,ndigits=2)}平方公分\")"
   ]
  },
  {
   "cell_type": "code",
   "execution_count": 3,
   "metadata": {},
   "outputs": [
    {
     "name": "stdout",
     "output_type": "stream",
     "text": [
      "周宥翔你好\n",
      "身高是:180\n",
      "體重是:54\n",
      "BMI:16.67\n"
     ]
    }
   ],
   "source": [
    "name=input(\"請輸入姓名:\")\n",
    "h=eval(input(\"請輸入身高(cm):\"))\n",
    "w=eval(input(\"請輸入體重(kg):\"))\n",
    "bmi=w/(h/100)**2\n",
    "print(f\"{name}你好\\n身高是:{h}\\n體重是:{w}\\nBMI:{round(bmi,ndigits=2)}\")"
   ]
  }
 ],
 "metadata": {
  "kernelspec": {
   "display_name": "Python 3",
   "language": "python",
   "name": "python3"
  },
  "language_info": {
   "codemirror_mode": {
    "name": "ipython",
    "version": 3
   },
   "file_extension": ".py",
   "mimetype": "text/x-python",
   "name": "python",
   "nbconvert_exporter": "python",
   "pygments_lexer": "ipython3",
   "version": "3.11.9"
  }
 },
 "nbformat": 4,
 "nbformat_minor": 2
}
