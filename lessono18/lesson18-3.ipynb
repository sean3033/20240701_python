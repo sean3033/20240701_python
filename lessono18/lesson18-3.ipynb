{
 "cells": [
  {
   "cell_type": "code",
   "execution_count": null,
   "metadata": {},
   "outputs": [],
   "source": [
    "\n",
    "import os\n",
    "current_path = os.path.dirname(os.path.abspath(__name__))\n",
    "folder_path = os.path.join(current_path,'每日各站進出站人數')\n",
    "fileName_list = []\n",
    "for filename in os.listdir(folder_path):\n",
    "    if '每日各站進出站人數' in filename:\n",
    "        fileName_list.append(os.path.join(folder_path,filename))"
   ]
  },
  {
   "cell_type": "code",
   "execution_count": null,
   "metadata": {},
   "outputs": [],
   "source": [
    "import pandas as pd\n",
    "import json\n",
    "from pprint import pprint\n",
    "#車站名稱\n",
    "stations_path = os.path.join(folder_path,'車站基本資料集.json')\n",
    "with open(stations_path,encoding='utf-8') as file:\n",
    "    station_content = json.load(file)\n",
    "\n",
    "stations_df = pd.DataFrame(station_content)\n",
    "stations_df"
   ]
  },
  {
   "cell_type": "code",
   "execution_count": null,
   "metadata": {},
   "outputs": [],
   "source": [
    "inOut_df = pd.read_csv(fileName_list[0])\n",
    "inOut_df.info()"
   ]
  },
  {
   "cell_type": "code",
   "execution_count": null,
   "metadata": {},
   "outputs": [],
   "source": [
    "df1 = pd.merge(inOut_df,stations_df,left_on='staCode',right_on='stationCode')\n",
    "df2 = df1.reindex(columns=['trnOpDate','stationName','gateInComingCnt','gateOutGoingCnt'])\n",
    "df3 = df2.rename(columns={'trnOpDate':'日期',\n",
    "                    'stationName':'站名',\n",
    "                    'gateInComingCnt':'進站',\n",
    "                    'gateOutGoingCnt':'出站'\n",
    "                    })"
   ]
  },
  {
   "cell_type": "code",
   "execution_count": null,
   "metadata": {},
   "outputs": [],
   "source": [
    "df3['日期'] = pd.to_datetime(df3['日期'].astype(str))"
   ]
  },
  {
   "cell_type": "code",
   "execution_count": null,
   "metadata": {},
   "outputs": [],
   "source": [
    "df3.query('日期==\"2020-01-01\"')"
   ]
  }
 ],
 "metadata": {
  "language_info": {
   "name": "python"
  }
 },
 "nbformat": 4,
 "nbformat_minor": 2
}
