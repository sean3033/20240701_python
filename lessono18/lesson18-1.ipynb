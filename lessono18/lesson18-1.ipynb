{
 "cells": [
  {
   "cell_type": "code",
   "execution_count": null,
   "metadata": {},
   "outputs": [],
   "source": [
    "import random\n",
    "import numpy as np\n",
    "import pandas as pd \n",
    "\n",
    "with open(\"names.txt\",encoding=\"utf-8\") as file:\n",
    "    content = file.read()\n",
    "\n",
    "names_list = content.split()\n",
    "names = random.choices(names_list,k=50)\n",
    "\n",
    "with open(\"names.txt\",encoding=\"utf-8\") as file:\n",
    "    content = file.read()\n",
    "    \n",
    "scores = np.random.randint(50,101,size=(50,5))\n",
    "student_df = pd.DataFrame(scores,\n",
    "             columns=['國文','英文','數學','地理','歷史'],\n",
    "             index=names)\n",
    "student_df"
   ]
  },
  {
   "cell_type": "code",
   "execution_count": null,
   "metadata": {},
   "outputs": [],
   "source": [
    "sum_series = student_df.sum(axis=1)"
   ]
  },
  {
   "cell_type": "code",
   "execution_count": null,
   "metadata": {},
   "outputs": [],
   "source": [
    "from pandas import Series,DataFrame\n",
    "def fun1(s:Series):\n",
    "    #傳出不及格的數量\n",
    "    return s[s < 60].count()\n",
    "\n",
    "student_df['不及格的科目數'] = student_df.apply(fun1,axis=1)\n",
    "student_df"
   ]
  },
  {
   "cell_type": "code",
   "execution_count": null,
   "metadata": {},
   "outputs": [],
   "source": [
    "def fun2(s:Series):\n",
    "    #傳出不及格的數量\n",
    "    s = s[:5]\n",
    "    index = s[s<60].index\n",
    "    return index.values\n",
    "\n",
    "student_df['不及格的科目'] = student_df.apply(fun2,axis=1)\n",
    "student_df"
   ]
  }
 ],
 "metadata": {
  "language_info": {
   "name": "python"
  }
 },
 "nbformat": 4,
 "nbformat_minor": 2
}
