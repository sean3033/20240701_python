{
 "cells": [
  {
   "cell_type": "code",
   "execution_count": 1,
   "metadata": {},
   "outputs": [
    {
     "ename": "ModuleNotFoundError",
     "evalue": "No module named 'pyinputplus'",
     "output_type": "error",
     "traceback": [
      "\u001b[0;31m---------------------------------------------------------------------------\u001b[0m",
      "\u001b[0;31mModuleNotFoundError\u001b[0m                       Traceback (most recent call last)",
      "Cell \u001b[0;32mIn[1], line 1\u001b[0m\n\u001b[0;32m----> 1\u001b[0m \u001b[38;5;28;01mimport\u001b[39;00m \u001b[38;5;21;01mpyinputplus\u001b[39;00m \u001b[38;5;28;01mas\u001b[39;00m \u001b[38;5;21;01mpyip\u001b[39;00m\n\u001b[1;32m      3\u001b[0m \u001b[38;5;28;01mclass\u001b[39;00m \u001b[38;5;21;01mPerson\u001b[39;00m():\n\u001b[1;32m      4\u001b[0m     \u001b[38;5;28;01mdef\u001b[39;00m \u001b[38;5;21m__init__\u001b[39m(\u001b[38;5;28mself\u001b[39m,n:\u001b[38;5;28mstr\u001b[39m,h:\u001b[38;5;28mint\u001b[39m,w:\u001b[38;5;28mint\u001b[39m):\n",
      "\u001b[0;31mModuleNotFoundError\u001b[0m: No module named 'pyinputplus'"
     ]
    }
   ],
   "source": [
    "\n",
    "import pyinputplus as pyip\n",
    "\n",
    "class Person():\n",
    "    def __init__(self,n:str,h:int,w:int):\n",
    "        self._name = n\n",
    "        self._height = h\n",
    "        self._weight = w\n",
    "\n",
    "    @property\n",
    "    def name(self) -> str:\n",
    "        return self._name\n",
    "    \n",
    "    @property\n",
    "    def height(self)->int:\n",
    "        return self._height\n",
    "    \n",
    "    @property\n",
    "    def weight(self)->int:\n",
    "        return self._weight\n",
    "\n",
    "    def getBmi(self) -> float:\n",
    "        return self.weight / (self.height/100) ** 2\n",
    "    \n",
    "    def get_status(self) -> str:\n",
    "        bmi:float = self.getBmi()\n",
    "        if bmi >= 35:\n",
    "            return '重度肥胖'\n",
    "        elif bmi >= 30:\n",
    "            return '中度肥胖'\n",
    "        elif bmi >= 27:\n",
    "            return '輕度肥胖'\n",
    "        elif bmi >= 24:\n",
    "            return '體重過重'\n",
    "        elif bmi >= 18.5:\n",
    "            return '體重正常'\n",
    "        else:\n",
    "            return '體重過輕'\n",
    "        \n",
    "    def bmi_print(self)->str:\n",
    "        return f\"{self.name}你好\\n身高是：{self.height}公分\\n體重是：{self.weight}公斤\\nBMI:{round(self.getBmi(),ndigits=2)}\\n{self.get_status()}\"\n",
    "       \n",
    "name = pyip.inputStr(\"請輸入姓名：\")\n",
    "print(name,\"\\n\")\n",
    "\n",
    "height= pyip.inputNum(\"請輸入身高(cm)：\")\n",
    "print(height,\"\\n\")\n",
    "weight = pyip.inputNum(\"請輸入體重(kg)：\")\n",
    "print(weight,\"\\n\")\n",
    "\n",
    "p = Person(name,height,weight)\n",
    "\n",
    "p.height = 1000\n",
    "\n",
    "p.bmi_print()\n",
    "    "
   ]
  }
 ],
 "metadata": {
  "kernelspec": {
   "display_name": "Python 3",
   "language": "python",
   "name": "python3"
  },
  "language_info": {
   "codemirror_mode": {
    "name": "ipython",
    "version": 3
   },
   "file_extension": ".py",
   "mimetype": "text/x-python",
   "name": "python",
   "nbconvert_exporter": "python",
   "pygments_lexer": "ipython3",
   "version": "3.11.9"
  }
 },
 "nbformat": 4,
 "nbformat_minor": 2
}
