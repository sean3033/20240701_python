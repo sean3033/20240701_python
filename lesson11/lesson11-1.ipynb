{
 "cells": [
  {
   "cell_type": "code",
   "execution_count": null,
   "metadata": {},
   "outputs": [],
   "source": [
    "\n",
    "import pyinputplus as pyip\n",
    "import random\n",
    "\n",
    "class Person():\n",
    "    def __init__(self,n:str,h:int,w:int):\n",
    "        self.name = n\n",
    "        self.height = h\n",
    "        self.weight = w\n",
    "\n",
    "    def getBmi(self) -> float:\n",
    "        return self.weight / (self.height/100) ** 2\n",
    "    \n",
    "    def get_status(self) -> str:\n",
    "        bmi:float = self.getBmi()\n",
    "        if bmi >= 35:\n",
    "            return '重度肥胖'\n",
    "        elif bmi >= 30:\n",
    "            return '中度肥胖'\n",
    "        elif bmi >= 27:\n",
    "            return '輕度肥胖'\n",
    "        elif bmi >= 24:\n",
    "            return '體重過重'\n",
    "        elif bmi >= 18.5:\n",
    "            return '體重正常'\n",
    "        else:\n",
    "            return '體重過輕'\n",
    "        \n",
    "    def bmi_print(self)->str:\n",
    "        return f\"{self.name}你好\\n身高是：{self.height}公分\\n體重是：{self.weight}公斤\\nBMI:{round(self.getBmi(),ndigits=2)}\\n{self.get_status()}\"\n",
    "    \n",
    "   \n",
    "    #name = pyip.inputStr(\"請輸入姓名：\")\n",
    "    #print(name,\"\\n\")\n",
    "\n",
    "    #height= pyip.inputNum(\"請輸入身高(cm)：\")\n",
    "    #print(height,\"\\n\")\n",
    "    #weight = pyip.inputNum(\"請輸入體重(kg)：\")\n",
    "    #print(weight,\"\\n\")\n",
    "file = open('names.txt',encoding='utf-8')\n",
    "contents:str = file.read()\n",
    "names:list[str] = contents.split(sep='\\n')\n",
    "name = random.choices(names)[0]\n",
    "file.close()\n",
    "\n",
    "p = Person(name,random.randint(150,190),random.randint(50,90))\n",
    "print(p.bmi_print())"
   ]
  },
  {
   "cell_type": "code",
   "execution_count": 9,
   "metadata": {},
   "outputs": [
    {
     "name": "stdout",
     "output_type": "stream",
     "text": [
      "沒有這個檔\n"
     ]
    }
   ],
   "source": [
    "import os\n",
    "\n",
    "file_path = os.path.abspath(__name__) #檔案的絕對位置\n",
    "current_dir_name = os.path.dirname(file_path) #取得目前的目錄\n",
    "filename = os.path.join(current_dir_name,'data','class.csv') #操作檔案的絕對位置\n",
    "if os.path.isfile(filename):\n",
    "    print(\"有這個檔\")\n",
    "else:\n",
    "    print(\"沒有這個檔\")"
   ]
  },
  {
   "cell_type": "code",
   "execution_count": 10,
   "metadata": {},
   "outputs": [
    {
     "ename": "NameError",
     "evalue": "name 'file_position' is not defined",
     "output_type": "error",
     "traceback": [
      "\u001b[0;31m---------------------------------------------------------------------------\u001b[0m",
      "\u001b[0;31mNameError\u001b[0m                                 Traceback (most recent call last)",
      "Cell \u001b[0;32mIn[10], line 1\u001b[0m\n\u001b[0;32m----> 1\u001b[0m file \u001b[38;5;241m=\u001b[39m \u001b[38;5;28mopen\u001b[39m(\u001b[43mfile_position\u001b[49m,mode\u001b[38;5;241m=\u001b[39m\u001b[38;5;124m'\u001b[39m\u001b[38;5;124mw\u001b[39m\u001b[38;5;124m'\u001b[39m,encoding\u001b[38;5;241m=\u001b[39m\u001b[38;5;124m'\u001b[39m\u001b[38;5;124mutf-8\u001b[39m\u001b[38;5;124m'\u001b[39m)\n\u001b[1;32m      2\u001b[0m file\u001b[38;5;241m.\u001b[39mwrite(\u001b[38;5;124m'\u001b[39m\u001b[38;5;124m姓名,國文,英文,數學\u001b[39m\u001b[38;5;130;01m\\n\u001b[39;00m\u001b[38;5;124m徐國堂,100,100,100\u001b[39m\u001b[38;5;130;01m\\n\u001b[39;00m\u001b[38;5;124m'\u001b[39m)\n\u001b[1;32m      3\u001b[0m file\u001b[38;5;241m.\u001b[39mclose()\n",
      "\u001b[0;31mNameError\u001b[0m: name 'file_position' is not defined"
     ]
    }
   ],
   "source": [
    "file = open(file_position,mode='w',encoding='utf-8')\n",
    "file.write('姓名,國文,英文,數學\\n徐國堂,100,100,100\\n')\n",
    "file.close()"
   ]
  },
  {
   "cell_type": "code",
   "execution_count": null,
   "metadata": {},
   "outputs": [],
   "source": [
    "#自動關閉file物件\n",
    "with open(file_position,mode='w',encoding='utf-8') as file:\n",
    "    file.write('姓名,國文,英文,數學\\n徐國堂,99,99,99\\n')"
   ]
  },
  {
   "cell_type": "code",
   "execution_count": null,
   "metadata": {},
   "outputs": [],
   "source": [
    "#用符號1位學生\n",
    "{'姓名':'周宥翔',\n",
    " '國文':96,\n",
    " '數學':78,\n",
    " '英文':76}"
   ]
  },
  {
   "cell_type": "code",
   "execution_count": null,
   "metadata": {},
   "outputs": [],
   "source": [
    "#用符號1位學生\n",
    "students=list()\n",
    "students.append(\n",
    "{'姓名':'周宥翔',\n",
    " '國文':96,\n",
    " '數學':78,\n",
    " '英文':76}\n",
    ")\n",
    "students.append(\n",
    "{'姓名':'robert',\n",
    " '國文':75,\n",
    " '數學':89,\n",
    " '英文':65}\n",
    ")\n",
    "students"
   ]
  },
  {
   "cell_type": "code",
   "execution_count": null,
   "metadata": {},
   "outputs": [],
   "source": [
    "import random\n",
    "with open('name.txt',encoding='utf-8') as file:\n",
    "    contents:str = file.read()\n",
    "    names:list[str] = contents.split(sep='\\n')\n",
    "    students_names = random.choices(names,k=50)\n",
    "students_names    "
   ]
  }
 ],
 "metadata": {
  "kernelspec": {
   "display_name": "Python 3",
   "language": "python",
   "name": "python3"
  },
  "language_info": {
   "codemirror_mode": {
    "name": "ipython",
    "version": 3
   },
   "file_extension": ".py",
   "mimetype": "text/x-python",
   "name": "python",
   "nbconvert_exporter": "python",
   "pygments_lexer": "ipython3",
   "version": "3.11.9"
  }
 },
 "nbformat": 4,
 "nbformat_minor": 2
}
