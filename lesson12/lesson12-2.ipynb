{
 "cells": [
  {
   "cell_type": "code",
   "execution_count": null,
   "metadata": {},
   "outputs": [],
   "source": [
    "from os.path import abspath,dirname,join\n",
    "\n",
    "file_path:str = join(dirname(abspath(__name__)),'data','空氣品質指標AQI.json')\n",
    "file_path"
   ]
  },
  {
   "cell_type": "code",
   "execution_count": null,
   "metadata": {},
   "outputs": [],
   "source": [
    "import json\n",
    "from pprint import pprint\n",
    "with open(file_path,encoding='utf-8',newline='') as file:\n",
    "    content = json.load(file)\n",
    "    pprint(content)"
   ]
  }
 ],
 "metadata": {
  "language_info": {
   "name": "python"
  }
 },
 "nbformat": 4,
 "nbformat_minor": 2
}
