{
 "cells": [
  {
   "cell_type": "code",
   "execution_count": 3,
   "metadata": {},
   "outputs": [],
   "source": [
    "def menu(wine,entree,dessert):\n",
    "    print(f\"酒類{wine}\")\n",
    "    print(f\"主餐{entree}\")\n",
    "    print(f\"點心{dessert}\")"
   ]
  },
  {
   "cell_type": "code",
   "execution_count": 4,
   "metadata": {},
   "outputs": [
    {
     "name": "stdout",
     "output_type": "stream",
     "text": [
      "酒類白酒\n",
      "主餐牛排\n",
      "點心蛋糕\n"
     ]
    }
   ],
   "source": [
    "menu('白酒:','牛排:','蛋糕:')"
   ]
  },
  {
   "cell_type": "code",
   "execution_count": 5,
   "metadata": {},
   "outputs": [
    {
     "name": "stdout",
     "output_type": "stream",
     "text": [
      "酒類酒類\n",
      "主餐牛排\n",
      "點心蛋糕\n"
     ]
    }
   ],
   "source": [
    "menu(entree='牛排',dessert='蛋糕',wine='酒類')"
   ]
  }
 ],
 "metadata": {
  "kernelspec": {
   "display_name": "Python 3",
   "language": "python",
   "name": "python3"
  },
  "language_info": {
   "codemirror_mode": {
    "name": "ipython",
    "version": 3
   },
   "file_extension": ".py",
   "mimetype": "text/x-python",
   "name": "python",
   "nbconvert_exporter": "python",
   "pygments_lexer": "ipython3",
   "version": "3.11.9"
  }
 },
 "nbformat": 4,
 "nbformat_minor": 2
}
