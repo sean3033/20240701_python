{
 "cells": [
  {
   "cell_type": "code",
   "execution_count": 1,
   "metadata": {},
   "outputs": [
    {
     "name": "stdout",
     "output_type": "stream",
     "text": [
      "False\n",
      "True\n",
      "True\n",
      "False\n"
     ]
    }
   ],
   "source": [
    "print(3 > 5)\n",
    "print(5 > 3)\n",
    "print(5 == 5)\n",
    "print(5 != 5)"
   ]
  },
  {
   "cell_type": "code",
   "execution_count": 2,
   "metadata": {},
   "outputs": [
    {
     "name": "stdout",
     "output_type": "stream",
     "text": [
      "未成年\n",
      "應用程式結束\n"
     ]
    }
   ],
   "source": [
    "age = 17\n",
    "if age >= 18:\n",
    "    print(\"成年\")\n",
    "else:\n",
    "    print(\"未成年\")\n",
    "print(\"應用程式結束\")"
   ]
  },
  {
   "cell_type": "code",
   "execution_count": 7,
   "metadata": {},
   "outputs": [
    {
     "name": "stdout",
     "output_type": "stream",
     "text": [
      "invalid literal for int() with base 10: '256a'\n",
      "應用程式結束\n"
     ]
    }
   ],
   "source": [
    "try:\n",
    "    score = int(input('請輸入學生分數(最高300分)'))\n",
    "    if score < 0:\n",
    "        raise ValueError(\"輸入數值要大於等於0\")\n",
    "    if score > 300:\n",
    "        raise ValueError(\"輸入數值要小於等於300\")\n",
    "\n",
    "    is_add=input('學生是否符合加分條件?(y,n)')\n",
    "    if is_add == \"y\":\n",
    "        score *= 1.05\n",
    "        if score > 300:\n",
    "            score=300\n",
    "    print(f\"學生總分{round(score)}\")\n",
    "except Exception as error:\n",
    "    print(error)\n",
    "\n",
    "print(\"應用程式結束\")       "
   ]
  },
  {
   "cell_type": "code",
   "execution_count": null,
   "metadata": {},
   "outputs": [],
   "source": [
    "score = int(input('請輸入學生分數(最高300分)'))\n",
    "    if score < 0:\n",
    "        print(\"輸入數值要大於等於0\")\n",
    "    if score > 300:\n",
    "        print(\"輸入數值要小於等於300\")\n",
    "    if score > 0:\n",
    "        if score <300:\n",
    "            print(\"在0~300內\")    "
   ]
  }
 ],
 "metadata": {
  "kernelspec": {
   "display_name": "Python 3",
   "language": "python",
   "name": "python3"
  },
  "language_info": {
   "codemirror_mode": {
    "name": "ipython",
    "version": 3
   },
   "file_extension": ".py",
   "mimetype": "text/x-python",
   "name": "python",
   "nbconvert_exporter": "python",
   "pygments_lexer": "ipython3",
   "version": "3.11.9"
  }
 },
 "nbformat": 4,
 "nbformat_minor": 2
}
