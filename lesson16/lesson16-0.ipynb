{
 "cells": [
  {
   "cell_type": "code",
   "execution_count": null,
   "metadata": {},
   "outputs": [],
   "source": [
    "import matplotlib.pyplot as plt\n",
    "labels = ['Nokia' , 'Samsung','Apple', 'Lumia']\n",
    "values = [20, 30, 45, 10]\n",
    "fig, ax = plt.subplots()\n",
    "ax.pie(values,\n",
    "        labels=labels,\n",
    "        autopct='%1.2f%%',\n",
    "        colors=['yellow', 'green', 'red', 'blue'],\n",
    "        explode=[0.3,0,0,0],\n",
    "        shadow=True,\n",
    "        startangle=180)\n",
    "plt.show()"
   ]
  }
 ],
 "metadata": {
  "language_info": {
   "name": "python"
  }
 },
 "nbformat": 4,
 "nbformat_minor": 2
}
