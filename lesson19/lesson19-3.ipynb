{
 "cells": [
  {
   "cell_type": "code",
   "execution_count": null,
   "metadata": {},
   "outputs": [],
   "source": [
    "from tools import get_path,station_info,merge_dataFrame\n",
    "import pandas as pd\n",
    "\n",
    "fileName_list = get_path()\n",
    "stations_df = station_info()\n",
    "all_in_out = merge_dataFrame(fileName_list, stations_df)\n",
    "station_in_out= pd.concat(all_in_out)\n",
    "station_in_out"
   ]
  },
  {
   "cell_type": "code",
   "execution_count": null,
   "metadata": {},
   "outputs": [],
   "source": [
    "station_in_out.info()"
   ]
  },
  {
   "cell_type": "code",
   "execution_count": null,
   "metadata": {},
   "outputs": [],
   "source": [
    "station_in_out.query('站名==\"基隆\"').max()"
   ]
  }
 ],
 "metadata": {
  "language_info": {
   "name": "python"
  }
 },
 "nbformat": 4,
 "nbformat_minor": 2
}
