{
 "cells": [
  {
   "cell_type": "code",
   "execution_count": null,
   "metadata": {},
   "outputs": [],
   "source": [
    "from tools import get_path,station_info,merge_dataFrame\n",
    "import pandas as pd\n",
    "\n",
    "fileName_list = get_path()\n",
    "stations_df = station_info()\n",
    "all_in_out = merge_dataFrame(fileName_list, stations_df)\n",
    "station_in_out= pd.concat(all_in_out)\n",
    "station_in_out1 = station_in_out.sort_values(by='日期')\n",
    "station_in_out1"
   ]
  },
  {
   "cell_type": "code",
   "execution_count": null,
   "metadata": {},
   "outputs": [],
   "source": [
    "years = station_in_out1['日期'].dt.year\n",
    "station_in_out1.groupby(by=[years,'站名'])[['進站','出站']].aggregate(['min','max'])"
   ]
  },
  {
   "cell_type": "code",
   "execution_count": null,
   "metadata": {},
   "outputs": [],
   "source": [
    "years_months = station_in_out1['日期'].dt.strftime('%Y-%m')\n",
    "station_in_out2 = station_in_out1.groupby(by=[years_months,'站名'])[['進站','出站']].aggregate(['min','max'])"
   ]
  },
  {
   "cell_type": "code",
   "execution_count": null,
   "metadata": {},
   "outputs": [],
   "source": [
    "bool1 = station_in_out2['進站']['min'] < 100\n",
    "bool1"
   ]
  },
  {
   "cell_type": "code",
   "execution_count": null,
   "metadata": {},
   "outputs": [],
   "source": [
    "station_in_out2[bool1]"
   ]
  },
  {
   "cell_type": "code",
   "execution_count": null,
   "metadata": {},
   "outputs": [],
   "source": [
    "bool2 = (station_in_out2['進站']['min'] < 100) & (station_in_out2['進站']['max'] < 100)\n",
    "\n",
    "station_in_out2[bool2]"
   ]
  }
 ],
 "metadata": {
  "language_info": {
   "name": "python"
  }
 },
 "nbformat": 4,
 "nbformat_minor": 2
}
